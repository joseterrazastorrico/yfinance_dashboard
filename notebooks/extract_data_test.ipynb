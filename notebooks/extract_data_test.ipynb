{
 "cells": [
  {
   "cell_type": "code",
   "execution_count": 1,
   "metadata": {},
   "outputs": [],
   "source": [
    "import yfinance as yf\n",
    "import plotly.graph_objs as go\n",
    "import pandas as pd\n",
    "from datetime import datetime, timedelta"
   ]
  },
  {
   "cell_type": "code",
   "execution_count": 2,
   "metadata": {},
   "outputs": [],
   "source": [
    "end_date = datetime.now()\n",
    "start_date = end_date - timedelta(days=365)\n",
    "stock_symbol = 'GOOG'"
   ]
  },
  {
   "cell_type": "code",
   "execution_count": 3,
   "metadata": {},
   "outputs": [
    {
     "name": "stderr",
     "output_type": "stream",
     "text": [
      "[*********************100%***********************]  1 of 1 completed\n"
     ]
    }
   ],
   "source": [
    "stock_data = yf.download(stock_symbol, start=start_date, end=end_date)\n",
    "stock_data['symbol'] = stock_symbol"
   ]
  },
  {
   "cell_type": "code",
   "execution_count": 4,
   "metadata": {},
   "outputs": [],
   "source": [
    "ticker = yf.Ticker(stock_symbol)\n",
    "list_fields = ['symbol', 'country', 'industry', 'sector', 'fullTimeEmployees', 'ebitda', 'totalDebt', 'totalRevenue', 'debtToEquity', 'grossMargins', 'ebitdaMargins']\n",
    "ticker = pd.DataFrame.from_dict({k:v for k,v in ticker.info.items() if k in list_fields}, orient='index').T"
   ]
  },
  {
   "cell_type": "code",
   "execution_count": 5,
   "metadata": {},
   "outputs": [
    {
     "data": {
      "text/html": [
       "<div>\n",
       "<style scoped>\n",
       "    .dataframe tbody tr th:only-of-type {\n",
       "        vertical-align: middle;\n",
       "    }\n",
       "\n",
       "    .dataframe tbody tr th {\n",
       "        vertical-align: top;\n",
       "    }\n",
       "\n",
       "    .dataframe thead th {\n",
       "        text-align: right;\n",
       "    }\n",
       "</style>\n",
       "<table border=\"1\" class=\"dataframe\">\n",
       "  <thead>\n",
       "    <tr style=\"text-align: right;\">\n",
       "      <th></th>\n",
       "      <th>country</th>\n",
       "      <th>industry</th>\n",
       "      <th>sector</th>\n",
       "      <th>fullTimeEmployees</th>\n",
       "      <th>symbol</th>\n",
       "      <th>ebitda</th>\n",
       "      <th>totalDebt</th>\n",
       "      <th>totalRevenue</th>\n",
       "      <th>debtToEquity</th>\n",
       "      <th>grossMargins</th>\n",
       "      <th>ebitdaMargins</th>\n",
       "    </tr>\n",
       "  </thead>\n",
       "  <tbody>\n",
       "    <tr>\n",
       "      <th>0</th>\n",
       "      <td>United States</td>\n",
       "      <td>Internet Content &amp; Information</td>\n",
       "      <td>Communication Services</td>\n",
       "      <td>179582</td>\n",
       "      <td>GOOG</td>\n",
       "      <td>115478003712</td>\n",
       "      <td>28718999552</td>\n",
       "      <td>328284012544</td>\n",
       "      <td>9.549</td>\n",
       "      <td>0.57639</td>\n",
       "      <td>0.35176</td>\n",
       "    </tr>\n",
       "  </tbody>\n",
       "</table>\n",
       "</div>"
      ],
      "text/plain": [
       "         country                        industry                  sector  \\\n",
       "0  United States  Internet Content & Information  Communication Services   \n",
       "\n",
       "  fullTimeEmployees symbol        ebitda    totalDebt  totalRevenue  \\\n",
       "0            179582   GOOG  115478003712  28718999552  328284012544   \n",
       "\n",
       "  debtToEquity grossMargins ebitdaMargins  \n",
       "0        9.549      0.57639       0.35176  "
      ]
     },
     "execution_count": 5,
     "metadata": {},
     "output_type": "execute_result"
    }
   ],
   "source": []
  },
  {
   "cell_type": "code",
   "execution_count": 11,
   "metadata": {},
   "outputs": [
    {
     "data": {
      "text/plain": [
       "Index(['country', 'industry', 'sector', 'fullTimeEmployees', 'symbol',\n",
       "       'ebitda', 'totalDebt', 'totalRevenue', 'debtToEquity', 'grossMargins',\n",
       "       'ebitdaMargins'],\n",
       "      dtype='object')"
      ]
     },
     "execution_count": 11,
     "metadata": {},
     "output_type": "execute_result"
    }
   ],
   "source": [
    "pd.DataFrame.from_dict({k:v for k,v in apple.info.items() if k in list_fields}, orient='index').T.columns"
   ]
  }
 ],
 "metadata": {
  "kernelspec": {
   "display_name": ".venv",
   "language": "python",
   "name": "python3"
  },
  "language_info": {
   "codemirror_mode": {
    "name": "ipython",
    "version": 3
   },
   "file_extension": ".py",
   "mimetype": "text/x-python",
   "name": "python",
   "nbconvert_exporter": "python",
   "pygments_lexer": "ipython3",
   "version": "3.12.5"
  }
 },
 "nbformat": 4,
 "nbformat_minor": 2
}
