{
 "cells": [
  {
   "cell_type": "code",
   "execution_count": 16,
   "metadata": {},
   "outputs": [],
   "source": [
    "import yfinance as yf\n",
    "import pandas as pd\n",
    "from datetime import datetime, timedelta\n",
    "from sqlalchemy import create_engine\n",
    "import time\n",
    "\n",
    "import sys\n",
    "sys.path.append('../')\n",
    "from src.parameters import STR_CONN\n",
    "from src.utils import download_data_stocks, download_data_ticker"
   ]
  },
  {
   "cell_type": "code",
   "execution_count": 14,
   "metadata": {},
   "outputs": [],
   "source": [
    "end_date = datetime.now()\n",
    "start_date = end_date - timedelta(days=365*2)"
   ]
  },
  {
   "cell_type": "code",
   "execution_count": 15,
   "metadata": {},
   "outputs": [],
   "source": [
    "stock_symbols = pd.read_excel('../data/tickers.xlsx')\n",
    "stock_symbols = stock_symbols['Símbolo'].to_list()"
   ]
  },
  {
   "cell_type": "code",
   "execution_count": 2,
   "metadata": {},
   "outputs": [],
   "source": [
    "# stock_symbols = ['META']"
   ]
  },
  {
   "cell_type": "code",
   "execution_count": 22,
   "metadata": {},
   "outputs": [
    {
     "name": "stderr",
     "output_type": "stream",
     "text": [
      "[*********************100%***********************]  1 of 1 completed\n"
     ]
    }
   ],
   "source": [
    "bad_symbol = []\n",
    "for stock_symbol in stock_symbols:\n",
    "    try:\n",
    "        ticker = download_data_ticker(stock_symbol)\n",
    "        stock_data = download_data_stocks(stock_symbol, start_date, end_date)\n",
    "        try:\n",
    "            ticker.to_sql('stocks', con=STR_CONN, if_exists='append', index=False)\n",
    "            stock_data.to_sql('stock_prices', con=STR_CONN, if_exists='append', index=False)\n",
    "        except Exception as e:\n",
    "            print('Not upload in database: ', stock_symbol)\n",
    "            print(e)\n",
    "    except Exception as e:\n",
    "        print(stock_symbol, e)\n",
    "        bad_symbol.append(stock_symbol)\n",
    "    time.sleep(1)"
   ]
  },
  {
   "cell_type": "code",
   "execution_count": 23,
   "metadata": {},
   "outputs": [
    {
     "data": {
      "text/plain": [
       "[]"
      ]
     },
     "execution_count": 23,
     "metadata": {},
     "output_type": "execute_result"
    }
   ],
   "source": [
    "bad_symbol"
   ]
  },
  {
   "cell_type": "code",
   "execution_count": 25,
   "metadata": {},
   "outputs": [
    {
     "data": {
      "text/html": [
       "<div>\n",
       "<style scoped>\n",
       "    .dataframe tbody tr th:only-of-type {\n",
       "        vertical-align: middle;\n",
       "    }\n",
       "\n",
       "    .dataframe tbody tr th {\n",
       "        vertical-align: top;\n",
       "    }\n",
       "\n",
       "    .dataframe thead th {\n",
       "        text-align: right;\n",
       "    }\n",
       "</style>\n",
       "<table border=\"1\" class=\"dataframe\">\n",
       "  <thead>\n",
       "    <tr style=\"text-align: right;\">\n",
       "      <th></th>\n",
       "      <th>Open</th>\n",
       "      <th>High</th>\n",
       "      <th>Low</th>\n",
       "      <th>Close</th>\n",
       "      <th>Volume</th>\n",
       "      <th>Dividends</th>\n",
       "      <th>Stock Splits</th>\n",
       "    </tr>\n",
       "    <tr>\n",
       "      <th>Date</th>\n",
       "      <th></th>\n",
       "      <th></th>\n",
       "      <th></th>\n",
       "      <th></th>\n",
       "      <th></th>\n",
       "      <th></th>\n",
       "      <th></th>\n",
       "    </tr>\n",
       "  </thead>\n",
       "  <tbody>\n",
       "    <tr>\n",
       "      <th>2024-09-13 00:00:00-04:00</th>\n",
       "      <td>5603.339844</td>\n",
       "      <td>5636.27002</td>\n",
       "      <td>5601.649902</td>\n",
       "      <td>5626.02002</td>\n",
       "      <td>3500790000</td>\n",
       "      <td>0.0</td>\n",
       "      <td>0.0</td>\n",
       "    </tr>\n",
       "  </tbody>\n",
       "</table>\n",
       "</div>"
      ],
      "text/plain": [
       "                                  Open        High          Low       Close  \\\n",
       "Date                                                                          \n",
       "2024-09-13 00:00:00-04:00  5603.339844  5636.27002  5601.649902  5626.02002   \n",
       "\n",
       "                               Volume  Dividends  Stock Splits  \n",
       "Date                                                            \n",
       "2024-09-13 00:00:00-04:00  3500790000        0.0           0.0  "
      ]
     },
     "execution_count": 25,
     "metadata": {},
     "output_type": "execute_result"
    }
   ],
   "source": [
    "# Descargar datos del índice S&P 500\n",
    "sp500 = yf.Ticker(\"^GSPC\")  # El símbolo del S&P 500\n",
    "\n",
    "# Obtener los componentes del índice S&P 500 (principales acciones)\n",
    "sp500_stocks = sp500.history(period=\"1d\")  # Solo obtienes datos de precios\n",
    "sp500_stocks"
   ]
  }
 ],
 "metadata": {
  "kernelspec": {
   "display_name": "finance_dash",
   "language": "python",
   "name": "python3"
  },
  "language_info": {
   "codemirror_mode": {
    "name": "ipython",
    "version": 3
   },
   "file_extension": ".py",
   "mimetype": "text/x-python",
   "name": "python",
   "nbconvert_exporter": "python",
   "pygments_lexer": "ipython3",
   "version": "3.12.5"
  }
 },
 "nbformat": 4,
 "nbformat_minor": 2
}
