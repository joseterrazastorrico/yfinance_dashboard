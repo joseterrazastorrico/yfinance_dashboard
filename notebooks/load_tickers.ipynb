{
 "cells": [
  {
   "cell_type": "code",
   "execution_count": 9,
   "metadata": {},
   "outputs": [],
   "source": [
    "import yfinance as yf\n",
    "import plotly.graph_objs as go\n",
    "import pandas as pd\n",
    "from datetime import datetime, timedelta\n",
    "from sqlalchemy import create_engine\n",
    "\n",
    "username = 'postgres'\n",
    "password = 'postgres'\n",
    "host = 'localhost'\n",
    "port = '5432'\n",
    "database = 'finance'\n",
    "str_conn = f'postgresql+psycopg2://{username}:{password}@{host}:{port}/{database}'"
   ]
  },
  {
   "cell_type": "code",
   "execution_count": 3,
   "metadata": {},
   "outputs": [],
   "source": [
    "end_date = datetime.now()\n",
    "start_date = end_date - timedelta(days=365*2)\n",
    "stock_symbol = 'GOOG'"
   ]
  },
  {
   "cell_type": "code",
   "execution_count": 8,
   "metadata": {},
   "outputs": [
    {
     "name": "stderr",
     "output_type": "stream",
     "text": [
      "[*********************100%***********************]  1 of 1 completed\n"
     ]
    }
   ],
   "source": [
    "stock_data = yf.download(stock_symbol, start=start_date, end=end_date)\n",
    "stock_data['symbol'] = stock_symbol\n",
    "stock_data = stock_data.reset_index()\n",
    "stock_data.columns = stock_data.columns.str.lower()\n",
    "stock_data = stock_data.drop(['adj close'], axis=1)"
   ]
  },
  {
   "cell_type": "code",
   "execution_count": 53,
   "metadata": {},
   "outputs": [],
   "source": [
    "ticker = yf.Ticker(stock_symbol)\n",
    "list_fields = ['symbol', 'country', 'industry', 'sector', 'fullTimeEmployees', 'ebitda', 'totalDebt', 'totalRevenue', 'debtToEquity', 'grossMargins', 'ebitdaMargins']\n",
    "ticker = pd.DataFrame.from_dict({k:v for k,v in ticker.info.items() if k in list_fields}, orient='index').T\n",
    "ticker.columns = ticker.columns.str.lower()"
   ]
  },
  {
   "cell_type": "code",
   "execution_count": 58,
   "metadata": {},
   "outputs": [],
   "source": [
    "ticker.to_sql('stocks', con=str_conn, if_exists='append', index=False)\n",
    "stock_data.to_sql('stock_prices', con=str_conn, if_exists='append', index=False)"
   ]
  },
  {
   "cell_type": "code",
   "execution_count": null,
   "metadata": {},
   "outputs": [],
   "source": []
  },
  {
   "cell_type": "code",
   "execution_count": null,
   "metadata": {},
   "outputs": [],
   "source": [
    "\n"
   ]
  },
  {
   "cell_type": "code",
   "execution_count": 22,
   "metadata": {},
   "outputs": [
    {
     "name": "stdout",
     "output_type": "stream",
     "text": [
      "Conexión exitosa!\n",
      "Error al conectarse a la base de datos: Not an executable object: 'SELECT * from public.stock_prices;'\n",
      "Conexión cerrada.\n"
     ]
    }
   ],
   "source": [
    "\n",
    "# Datos de conexión\n",
    "username = 'postgres'\n",
    "password = 'postgres'\n",
    "host = 'localhost'\n",
    "port = '5432'\n",
    "database = 'finance'\n",
    "str_conn = f'postgresql+psycopg2://{username}:{password}@{host}:{port}/{database}'\n",
    "# Crear el motor de conexión (Engine)\n",
    "engine = create_engine(str_conn)\n",
    "\n",
    "# Verificar la conexión\n",
    "try:\n",
    "    connection = engine.connect()\n",
    "    print(\"Conexión exitosa!\")\n",
    "    \n",
    "    # Ejecutar una consulta de prueba\n",
    "    result = connection.execute(\"SELECT * from public.stock_prices;\")\n",
    "    for row in result:\n",
    "        print(row)\n",
    "\n",
    "    \n",
    "except Exception as error:\n",
    "    print(f\"Error al conectarse a la base de datos: {error}\")\n",
    "    \n",
    "finally:\n",
    "    connection.close()\n",
    "    print(\"Conexión cerrada.\")"
   ]
  },
  {
   "cell_type": "code",
   "execution_count": 33,
   "metadata": {},
   "outputs": [],
   "source": [
    "from sqlalchemy.sql import text\n",
    "\n",
    "connection = engine.connect()\n",
    "result = connection.execute(text('SELECT * from stocks'))\n",
    "connection.close()"
   ]
  },
  {
   "cell_type": "code",
   "execution_count": 38,
   "metadata": {},
   "outputs": [],
   "source": []
  }
 ],
 "metadata": {
  "kernelspec": {
   "display_name": "finance_dash",
   "language": "python",
   "name": "python3"
  },
  "language_info": {
   "codemirror_mode": {
    "name": "ipython",
    "version": 3
   },
   "file_extension": ".py",
   "mimetype": "text/x-python",
   "name": "python",
   "nbconvert_exporter": "python",
   "pygments_lexer": "ipython3",
   "version": "3.12.5"
  }
 },
 "nbformat": 4,
 "nbformat_minor": 2
}
