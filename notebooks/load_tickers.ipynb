{
 "cells": [
  {
   "cell_type": "code",
   "execution_count": 16,
   "metadata": {},
   "outputs": [],
   "source": [
    "import yfinance as yf\n",
    "import pandas as pd\n",
    "from datetime import datetime, timedelta\n",
    "from sqlalchemy import create_engine\n",
    "import time\n",
    "\n",
    "import sys\n",
    "sys.path.append('../')\n",
    "from src.parameters import STR_CONN"
   ]
  },
  {
   "cell_type": "code",
   "execution_count": 13,
   "metadata": {},
   "outputs": [],
   "source": [
    "def download_data_ticker(stock_symbol):\n",
    "    ticker = yf.Ticker(stock_symbol)\n",
    "    list_fields = ['symbol', 'country', 'industry', 'sector', 'fullTimeEmployees', 'ebitda', 'totalDebt', 'totalRevenue', 'debtToEquity', 'grossMargins', 'ebitdaMargins']\n",
    "    ticker = pd.DataFrame.from_dict({k:v for k,v in ticker.info.items() if k in list_fields}, orient='index').T\n",
    "    ticker.columns = ticker.columns.str.lower()\n",
    "    return ticker\n",
    "\n",
    "def download_data_stocks(stock_symbol, start_date, end_date):\n",
    "    stock_data = yf.download(stock_symbol, start=start_date, end=end_date)\n",
    "    stock_data['symbol'] = stock_symbol\n",
    "    stock_data = stock_data.reset_index()\n",
    "    stock_data.columns = stock_data.columns.str.lower()\n",
    "    stock_data = stock_data.drop(['adj close'], axis=1)\n",
    "    return stock_data"
   ]
  },
  {
   "cell_type": "code",
   "execution_count": 14,
   "metadata": {},
   "outputs": [],
   "source": [
    "end_date = datetime.now()\n",
    "start_date = end_date - timedelta(days=365*2)\n",
    "# stock_symbol = 'GOOG'"
   ]
  },
  {
   "cell_type": "code",
   "execution_count": 15,
   "metadata": {},
   "outputs": [],
   "source": [
    "stock_symbols = pd.read_excel('../data/tickers.xlsx')\n",
    "stock_symbols = stock_symbols['Símbolo'].to_list()"
   ]
  },
  {
   "cell_type": "code",
   "execution_count": 21,
   "metadata": {},
   "outputs": [],
   "source": [
    "stock_symbols = ['META']"
   ]
  },
  {
   "cell_type": "code",
   "execution_count": 22,
   "metadata": {},
   "outputs": [
    {
     "name": "stderr",
     "output_type": "stream",
     "text": [
      "[*********************100%***********************]  1 of 1 completed\n"
     ]
    }
   ],
   "source": [
    "bad_symbol = []\n",
    "for stock_symbol in stock_symbols:\n",
    "    try:\n",
    "        ticker = download_data_ticker(stock_symbol)\n",
    "        stock_data = download_data_stocks(stock_symbol, start_date, end_date)\n",
    "        try:\n",
    "            ticker.to_sql('stocks', con=STR_CONN, if_exists='append', index=False)\n",
    "            stock_data.to_sql('stock_prices', con=STR_CONN, if_exists='append', index=False)\n",
    "        except Exception as e:\n",
    "            print('Not upload in database: ', stock_symbol)\n",
    "            print(e)\n",
    "    except Exception as e:\n",
    "        print(stock_symbol, e)\n",
    "        bad_symbol.append(stock_symbol)\n",
    "    time.sleep(1)"
   ]
  },
  {
   "cell_type": "code",
   "execution_count": 23,
   "metadata": {},
   "outputs": [
    {
     "data": {
      "text/plain": [
       "[]"
      ]
     },
     "execution_count": 23,
     "metadata": {},
     "output_type": "execute_result"
    }
   ],
   "source": [
    "bad_symbol"
   ]
  },
  {
   "cell_type": "code",
   "execution_count": 53,
   "metadata": {},
   "outputs": [],
   "source": []
  },
  {
   "cell_type": "code",
   "execution_count": 58,
   "metadata": {},
   "outputs": [],
   "source": []
  },
  {
   "cell_type": "code",
   "execution_count": null,
   "metadata": {},
   "outputs": [],
   "source": []
  },
  {
   "cell_type": "code",
   "execution_count": 38,
   "metadata": {},
   "outputs": [],
   "source": []
  }
 ],
 "metadata": {
  "kernelspec": {
   "display_name": "finance_dash",
   "language": "python",
   "name": "python3"
  },
  "language_info": {
   "codemirror_mode": {
    "name": "ipython",
    "version": 3
   },
   "file_extension": ".py",
   "mimetype": "text/x-python",
   "name": "python",
   "nbconvert_exporter": "python",
   "pygments_lexer": "ipython3",
   "version": "3.12.5"
  }
 },
 "nbformat": 4,
 "nbformat_minor": 2
}
